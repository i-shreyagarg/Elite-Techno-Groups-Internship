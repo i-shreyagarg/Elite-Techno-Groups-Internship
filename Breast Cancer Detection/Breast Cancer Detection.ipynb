{
 "cells": [
  {
   "cell_type": "markdown",
   "metadata": {},
   "source": [
    "# Breast Cancer Detection"
   ]
  },
  {
   "cell_type": "markdown",
   "metadata": {},
   "source": [
    "This is a Breast Cancer Detection System which detects whether a tumor is malignant or benign. "
   ]
  },
  {
   "cell_type": "markdown",
   "metadata": {},
   "source": [
    "### 1. Importing the Data"
   ]
  },
  {
   "cell_type": "code",
   "execution_count": 9,
   "metadata": {},
   "outputs": [],
   "source": [
    "import pandas as pd\n",
    "import numpy as np\n",
    "\n",
    "from sklearn.datasets import load_breast_cancer\n",
    "from sklearn.preprocessing import StandardScaler\n",
    "\n",
    "from keras.models import Sequential\n",
    "from keras.layers import Dense"
   ]
  },
  {
   "cell_type": "code",
   "execution_count": 10,
   "metadata": {},
   "outputs": [],
   "source": [
    "data = load_breast_cancer()"
   ]
  },
  {
   "cell_type": "code",
   "execution_count": 11,
   "metadata": {},
   "outputs": [
    {
     "data": {
      "text/plain": [
       "dict_keys(['data', 'target', 'target_names', 'DESCR', 'feature_names', 'filename'])"
      ]
     },
     "execution_count": 11,
     "metadata": {},
     "output_type": "execute_result"
    }
   ],
   "source": [
    "data.keys()"
   ]
  },
  {
   "cell_type": "markdown",
   "metadata": {},
   "source": [
    "### 2. Understanding the Dataset "
   ]
  },
  {
   "cell_type": "code",
   "execution_count": 12,
   "metadata": {},
   "outputs": [
    {
     "name": "stdout",
     "output_type": "stream",
     "text": [
      ".. _breast_cancer_dataset:\n",
      "\n",
      "Breast cancer wisconsin (diagnostic) dataset\n",
      "--------------------------------------------\n",
      "\n",
      "**Data Set Characteristics:**\n",
      "\n",
      "    :Number of Instances: 569\n",
      "\n",
      "    :Number of Attributes: 30 numeric, predictive attributes and the class\n",
      "\n",
      "    :Attribute Information:\n",
      "        - radius (mean of distances from center to points on the perimeter)\n",
      "        - texture (standard deviation of gray-scale values)\n",
      "        - perimeter\n",
      "        - area\n",
      "        - smoothness (local variation in radius lengths)\n",
      "        - compactness (perimeter^2 / area - 1.0)\n",
      "        - concavity (severity of concave portions of the contour)\n",
      "        - concave points (number of concave portions of the contour)\n",
      "        - symmetry \n",
      "        - fractal dimension (\"coastline approximation\" - 1)\n",
      "\n",
      "        The mean, standard error, and \"worst\" or largest (mean of the three\n",
      "        largest values) of these features were computed for each image,\n",
      "        resulting in 30 features.  For instance, field 3 is Mean Radius, field\n",
      "        13 is Radius SE, field 23 is Worst Radius.\n",
      "\n",
      "        - class:\n",
      "                - WDBC-Malignant\n",
      "                - WDBC-Benign\n",
      "\n",
      "    :Summary Statistics:\n",
      "\n",
      "    ===================================== ====== ======\n",
      "                                           Min    Max\n",
      "    ===================================== ====== ======\n",
      "    radius (mean):                        6.981  28.11\n",
      "    texture (mean):                       9.71   39.28\n",
      "    perimeter (mean):                     43.79  188.5\n",
      "    area (mean):                          143.5  2501.0\n",
      "    smoothness (mean):                    0.053  0.163\n",
      "    compactness (mean):                   0.019  0.345\n",
      "    concavity (mean):                     0.0    0.427\n",
      "    concave points (mean):                0.0    0.201\n",
      "    symmetry (mean):                      0.106  0.304\n",
      "    fractal dimension (mean):             0.05   0.097\n",
      "    radius (standard error):              0.112  2.873\n",
      "    texture (standard error):             0.36   4.885\n",
      "    perimeter (standard error):           0.757  21.98\n",
      "    area (standard error):                6.802  542.2\n",
      "    smoothness (standard error):          0.002  0.031\n",
      "    compactness (standard error):         0.002  0.135\n",
      "    concavity (standard error):           0.0    0.396\n",
      "    concave points (standard error):      0.0    0.053\n",
      "    symmetry (standard error):            0.008  0.079\n",
      "    fractal dimension (standard error):   0.001  0.03\n",
      "    radius (worst):                       7.93   36.04\n",
      "    texture (worst):                      12.02  49.54\n",
      "    perimeter (worst):                    50.41  251.2\n",
      "    area (worst):                         185.2  4254.0\n",
      "    smoothness (worst):                   0.071  0.223\n",
      "    compactness (worst):                  0.027  1.058\n",
      "    concavity (worst):                    0.0    1.252\n",
      "    concave points (worst):               0.0    0.291\n",
      "    symmetry (worst):                     0.156  0.664\n",
      "    fractal dimension (worst):            0.055  0.208\n",
      "    ===================================== ====== ======\n",
      "\n",
      "    :Missing Attribute Values: None\n",
      "\n",
      "    :Class Distribution: 212 - Malignant, 357 - Benign\n",
      "\n",
      "    :Creator:  Dr. William H. Wolberg, W. Nick Street, Olvi L. Mangasarian\n",
      "\n",
      "    :Donor: Nick Street\n",
      "\n",
      "    :Date: November, 1995\n",
      "\n",
      "This is a copy of UCI ML Breast Cancer Wisconsin (Diagnostic) datasets.\n",
      "https://goo.gl/U2Uwz2\n",
      "\n",
      "Features are computed from a digitized image of a fine needle\n",
      "aspirate (FNA) of a breast mass.  They describe\n",
      "characteristics of the cell nuclei present in the image.\n",
      "\n",
      "Separating plane described above was obtained using\n",
      "Multisurface Method-Tree (MSM-T) [K. P. Bennett, \"Decision Tree\n",
      "Construction Via Linear Programming.\" Proceedings of the 4th\n",
      "Midwest Artificial Intelligence and Cognitive Science Society,\n",
      "pp. 97-101, 1992], a classification method which uses linear\n",
      "programming to construct a decision tree.  Relevant features\n",
      "were selected using an exhaustive search in the space of 1-4\n",
      "features and 1-3 separating planes.\n",
      "\n",
      "The actual linear program used to obtain the separating plane\n",
      "in the 3-dimensional space is that described in:\n",
      "[K. P. Bennett and O. L. Mangasarian: \"Robust Linear\n",
      "Programming Discrimination of Two Linearly Inseparable Sets\",\n",
      "Optimization Methods and Software 1, 1992, 23-34].\n",
      "\n",
      "This database is also available through the UW CS ftp server:\n",
      "\n",
      "ftp ftp.cs.wisc.edu\n",
      "cd math-prog/cpo-dataset/machine-learn/WDBC/\n",
      "\n",
      ".. topic:: References\n",
      "\n",
      "   - W.N. Street, W.H. Wolberg and O.L. Mangasarian. Nuclear feature extraction \n",
      "     for breast tumor diagnosis. IS&T/SPIE 1993 International Symposium on \n",
      "     Electronic Imaging: Science and Technology, volume 1905, pages 861-870,\n",
      "     San Jose, CA, 1993.\n",
      "   - O.L. Mangasarian, W.N. Street and W.H. Wolberg. Breast cancer diagnosis and \n",
      "     prognosis via linear programming. Operations Research, 43(4), pages 570-577, \n",
      "     July-August 1995.\n",
      "   - W.H. Wolberg, W.N. Street, and O.L. Mangasarian. Machine learning techniques\n",
      "     to diagnose breast cancer from fine-needle aspirates. Cancer Letters 77 (1994) \n",
      "     163-171.\n"
     ]
    }
   ],
   "source": [
    "print(data['DESCR'])"
   ]
  },
  {
   "cell_type": "code",
   "execution_count": 13,
   "metadata": {},
   "outputs": [
    {
     "data": {
      "text/plain": [
       "(569, 30)"
      ]
     },
     "execution_count": 13,
     "metadata": {},
     "output_type": "execute_result"
    }
   ],
   "source": [
    "data['data'].shape"
   ]
  },
  {
   "cell_type": "code",
   "execution_count": 14,
   "metadata": {},
   "outputs": [
    {
     "data": {
      "text/plain": [
       "array(['mean radius', 'mean texture', 'mean perimeter', 'mean area',\n",
       "       'mean smoothness', 'mean compactness', 'mean concavity',\n",
       "       'mean concave points', 'mean symmetry', 'mean fractal dimension',\n",
       "       'radius error', 'texture error', 'perimeter error', 'area error',\n",
       "       'smoothness error', 'compactness error', 'concavity error',\n",
       "       'concave points error', 'symmetry error',\n",
       "       'fractal dimension error', 'worst radius', 'worst texture',\n",
       "       'worst perimeter', 'worst area', 'worst smoothness',\n",
       "       'worst compactness', 'worst concavity', 'worst concave points',\n",
       "       'worst symmetry', 'worst fractal dimension'], dtype='<U23')"
      ]
     },
     "execution_count": 14,
     "metadata": {},
     "output_type": "execute_result"
    }
   ],
   "source": [
    "data['feature_names']"
   ]
  },
  {
   "cell_type": "code",
   "execution_count": 15,
   "metadata": {},
   "outputs": [
    {
     "data": {
      "text/plain": [
       "array([1.799e+01, 1.038e+01, 1.228e+02, 1.001e+03, 1.184e-01, 2.776e-01,\n",
       "       3.001e-01, 1.471e-01, 2.419e-01, 7.871e-02, 1.095e+00, 9.053e-01,\n",
       "       8.589e+00, 1.534e+02, 6.399e-03, 4.904e-02, 5.373e-02, 1.587e-02,\n",
       "       3.003e-02, 6.193e-03, 2.538e+01, 1.733e+01, 1.846e+02, 2.019e+03,\n",
       "       1.622e-01, 6.656e-01, 7.119e-01, 2.654e-01, 4.601e-01, 1.189e-01])"
      ]
     },
     "execution_count": 15,
     "metadata": {},
     "output_type": "execute_result"
    }
   ],
   "source": [
    "data['data'][0]"
   ]
  },
  {
   "cell_type": "code",
   "execution_count": 16,
   "metadata": {},
   "outputs": [
    {
     "name": "stdout",
     "output_type": "stream",
     "text": [
      "mean radius : 17.99\n",
      "mean texture : 10.38\n",
      "mean perimeter : 122.8\n",
      "mean area : 1001.0\n",
      "mean smoothness : 0.1184\n",
      "mean compactness : 0.2776\n",
      "mean concavity : 0.3001\n",
      "mean concave points : 0.1471\n",
      "mean symmetry : 0.2419\n",
      "mean fractal dimension : 0.07871\n",
      "radius error : 1.095\n",
      "texture error : 0.9053\n",
      "perimeter error : 8.589\n",
      "area error : 153.4\n",
      "smoothness error : 0.006399\n",
      "compactness error : 0.04904\n",
      "concavity error : 0.05373\n",
      "concave points error : 0.01587\n",
      "symmetry error : 0.03003\n",
      "fractal dimension error : 0.006193\n",
      "worst radius : 25.38\n",
      "worst texture : 17.33\n",
      "worst perimeter : 184.6\n",
      "worst area : 2019.0\n",
      "worst smoothness : 0.1622\n",
      "worst compactness : 0.6656\n",
      "worst concavity : 0.7119\n",
      "worst concave points : 0.2654\n",
      "worst symmetry : 0.4601\n",
      "worst fractal dimension : 0.1189\n"
     ]
    }
   ],
   "source": [
    "j = 0\n",
    "for i in data['feature_names']:\n",
    "  print(i,\":\",data['data'][0][j])\n",
    "  j+=1"
   ]
  },
  {
   "cell_type": "code",
   "execution_count": 17,
   "metadata": {},
   "outputs": [],
   "source": [
    "feature = data['data']\n",
    "label = data['target']"
   ]
  },
  {
   "cell_type": "code",
   "execution_count": 18,
   "metadata": {},
   "outputs": [
    {
     "data": {
      "text/plain": [
       "array(['malignant', 'benign'], dtype='<U9')"
      ]
     },
     "execution_count": 18,
     "metadata": {},
     "output_type": "execute_result"
    }
   ],
   "source": [
    "data['target_names']"
   ]
  },
  {
   "cell_type": "code",
   "execution_count": 19,
   "metadata": {},
   "outputs": [
    {
     "data": {
      "text/plain": [
       "((569, 30), (569,))"
      ]
     },
     "execution_count": 19,
     "metadata": {},
     "output_type": "execute_result"
    }
   ],
   "source": [
    "feature.shape, label.shape"
   ]
  },
  {
   "cell_type": "markdown",
   "metadata": {},
   "source": [
    "### 3. Scaling the Data"
   ]
  },
  {
   "cell_type": "code",
   "execution_count": 20,
   "metadata": {},
   "outputs": [],
   "source": [
    "scale = StandardScaler()\n",
    "feature = scale.fit_transform(feature)"
   ]
  },
  {
   "cell_type": "code",
   "execution_count": 21,
   "metadata": {},
   "outputs": [
    {
     "name": "stdout",
     "output_type": "stream",
     "text": [
      "mean radius : 1.0970639814699807\n",
      "mean texture : -2.0733350146975935\n",
      "mean perimeter : 1.2699336881399383\n",
      "mean area : 0.9843749048031144\n",
      "mean smoothness : 1.568466329243428\n",
      "mean compactness : 3.2835146709868264\n",
      "mean concavity : 2.652873983743168\n",
      "mean concave points : 2.532475216403245\n",
      "mean symmetry : 2.2175150059646405\n",
      "mean fractal dimension : 2.255746885296269\n",
      "radius error : 2.4897339267376193\n",
      "texture error : -0.5652650590684639\n",
      "perimeter error : 2.833030865855184\n",
      "area error : 2.4875775569611043\n",
      "smoothness error : -0.21400164666895383\n",
      "compactness error : 1.3168615683959484\n",
      "concavity error : 0.72402615808036\n",
      "concave points error : 0.6608199414286064\n",
      "symmetry error : 1.1487566671861758\n",
      "fractal dimension error : 0.9070830809973359\n",
      "worst radius : 1.8866896251792757\n",
      "worst texture : -1.3592934737640827\n",
      "worst perimeter : 2.3036006236225606\n",
      "worst area : 2.0012374893299207\n",
      "worst smoothness : 1.3076862710715387\n",
      "worst compactness : 2.616665023512603\n",
      "worst concavity : 2.1095263465722556\n",
      "worst concave points : 2.296076127561788\n",
      "worst symmetry : 2.750622244124955\n",
      "worst fractal dimension : 1.9370146123781782\n"
     ]
    }
   ],
   "source": [
    "j = 0\n",
    "for i in data['feature_names']:\n",
    "  print(i,\":\",feature[0][j])\n",
    "  j+=1"
   ]
  },
  {
   "cell_type": "code",
   "execution_count": 22,
   "metadata": {},
   "outputs": [
    {
     "name": "stdout",
     "output_type": "stream",
     "text": [
      "[-1.80840125  1.22179204 -1.81438851 -1.34778924 -3.11208479 -1.15075248\n",
      " -1.11487284 -1.26181958 -0.8200699  -0.56103238 -0.07027874  0.3830925\n",
      " -0.15744905 -0.46615196  0.04934236 -1.16351619 -1.05750068 -1.91344745\n",
      "  0.75282996 -0.382754   -1.41089258  0.76418957 -1.43273495 -1.07581292\n",
      " -1.85901852 -1.2075525  -1.30583065 -1.74506282 -0.04813821 -0.75120669]\n",
      "benign 1\n"
     ]
    }
   ],
   "source": [
    "#an example\n",
    "print(feature[568])\n",
    "print(data['target_names'][label[568]],label[568])"
   ]
  },
  {
   "cell_type": "markdown",
   "metadata": {},
   "source": [
    "### 4. Converting data into more readable format"
   ]
  },
  {
   "cell_type": "code",
   "execution_count": 23,
   "metadata": {},
   "outputs": [],
   "source": [
    "df_frt = pd.DataFrame(feature , columns = data['feature_names'])\n",
    "df_lbl = pd.DataFrame(label , columns = ['label'])\n",
    "df = pd.concat([df_frt, df_lbl], axis=1)\n",
    "df = df.sample(frac = 1)\n",
    "feature = df.values[ : , : 30]\n",
    "label = df.values[ : ,30: ]"
   ]
  },
  {
   "cell_type": "code",
   "execution_count": 24,
   "metadata": {},
   "outputs": [
    {
     "data": {
      "text/html": [
       "<div>\n",
       "<style scoped>\n",
       "    .dataframe tbody tr th:only-of-type {\n",
       "        vertical-align: middle;\n",
       "    }\n",
       "\n",
       "    .dataframe tbody tr th {\n",
       "        vertical-align: top;\n",
       "    }\n",
       "\n",
       "    .dataframe thead th {\n",
       "        text-align: right;\n",
       "    }\n",
       "</style>\n",
       "<table border=\"1\" class=\"dataframe\">\n",
       "  <thead>\n",
       "    <tr style=\"text-align: right;\">\n",
       "      <th></th>\n",
       "      <th>mean radius</th>\n",
       "      <th>mean texture</th>\n",
       "      <th>mean perimeter</th>\n",
       "      <th>mean area</th>\n",
       "      <th>mean smoothness</th>\n",
       "      <th>mean compactness</th>\n",
       "      <th>mean concavity</th>\n",
       "      <th>mean concave points</th>\n",
       "      <th>mean symmetry</th>\n",
       "      <th>mean fractal dimension</th>\n",
       "      <th>...</th>\n",
       "      <th>worst texture</th>\n",
       "      <th>worst perimeter</th>\n",
       "      <th>worst area</th>\n",
       "      <th>worst smoothness</th>\n",
       "      <th>worst compactness</th>\n",
       "      <th>worst concavity</th>\n",
       "      <th>worst concave points</th>\n",
       "      <th>worst symmetry</th>\n",
       "      <th>worst fractal dimension</th>\n",
       "      <th>label</th>\n",
       "    </tr>\n",
       "  </thead>\n",
       "  <tbody>\n",
       "    <tr>\n",
       "      <td>536</td>\n",
       "      <td>0.040531</td>\n",
       "      <td>0.758706</td>\n",
       "      <td>0.074182</td>\n",
       "      <td>-0.071356</td>\n",
       "      <td>0.529451</td>\n",
       "      <td>0.209585</td>\n",
       "      <td>0.721919</td>\n",
       "      <td>0.321673</td>\n",
       "      <td>0.417600</td>\n",
       "      <td>-0.422107</td>\n",
       "      <td>...</td>\n",
       "      <td>1.399280</td>\n",
       "      <td>-0.088202</td>\n",
       "      <td>-0.267700</td>\n",
       "      <td>0.246858</td>\n",
       "      <td>0.121089</td>\n",
       "      <td>0.725441</td>\n",
       "      <td>0.328800</td>\n",
       "      <td>-0.328014</td>\n",
       "      <td>-0.024151</td>\n",
       "      <td>0</td>\n",
       "    </tr>\n",
       "    <tr>\n",
       "      <td>28</td>\n",
       "      <td>0.333066</td>\n",
       "      <td>1.391668</td>\n",
       "      <td>0.429654</td>\n",
       "      <td>0.220449</td>\n",
       "      <td>0.842579</td>\n",
       "      <td>1.238650</td>\n",
       "      <td>0.998129</td>\n",
       "      <td>0.995412</td>\n",
       "      <td>0.417600</td>\n",
       "      <td>0.368916</td>\n",
       "      <td>...</td>\n",
       "      <td>1.796619</td>\n",
       "      <td>1.252161</td>\n",
       "      <td>0.682803</td>\n",
       "      <td>1.390974</td>\n",
       "      <td>2.269333</td>\n",
       "      <td>1.733401</td>\n",
       "      <td>1.336800</td>\n",
       "      <td>1.822016</td>\n",
       "      <td>0.820940</td>\n",
       "      <td>0</td>\n",
       "    </tr>\n",
       "    <tr>\n",
       "      <td>286</td>\n",
       "      <td>-0.621222</td>\n",
       "      <td>0.342161</td>\n",
       "      <td>-0.580742</td>\n",
       "      <td>-0.608323</td>\n",
       "      <td>-0.733736</td>\n",
       "      <td>-0.061421</td>\n",
       "      <td>-0.289509</td>\n",
       "      <td>-0.283970</td>\n",
       "      <td>-0.816419</td>\n",
       "      <td>0.689294</td>\n",
       "      <td>...</td>\n",
       "      <td>0.262631</td>\n",
       "      <td>-0.448611</td>\n",
       "      <td>-0.587992</td>\n",
       "      <td>-0.910410</td>\n",
       "      <td>0.171980</td>\n",
       "      <td>-0.171216</td>\n",
       "      <td>0.013609</td>\n",
       "      <td>-0.704957</td>\n",
       "      <td>0.879127</td>\n",
       "      <td>1</td>\n",
       "    </tr>\n",
       "    <tr>\n",
       "      <td>398</td>\n",
       "      <td>-0.871154</td>\n",
       "      <td>-1.037790</td>\n",
       "      <td>-0.892140</td>\n",
       "      <td>-0.786932</td>\n",
       "      <td>-1.348605</td>\n",
       "      <td>-1.073809</td>\n",
       "      <td>-0.774382</td>\n",
       "      <td>-1.074916</td>\n",
       "      <td>-1.009919</td>\n",
       "      <td>-0.093223</td>\n",
       "      <td>...</td>\n",
       "      <td>-0.867505</td>\n",
       "      <td>-0.788467</td>\n",
       "      <td>-0.674833</td>\n",
       "      <td>-0.892875</td>\n",
       "      <td>-0.422174</td>\n",
       "      <td>-0.308426</td>\n",
       "      <td>-0.899073</td>\n",
       "      <td>-0.502735</td>\n",
       "      <td>0.423054</td>\n",
       "      <td>1</td>\n",
       "    </tr>\n",
       "    <tr>\n",
       "      <td>60</td>\n",
       "      <td>-1.123927</td>\n",
       "      <td>-1.026155</td>\n",
       "      <td>-1.129395</td>\n",
       "      <td>-0.975496</td>\n",
       "      <td>1.212639</td>\n",
       "      <td>-0.449737</td>\n",
       "      <td>-0.978777</td>\n",
       "      <td>-0.929077</td>\n",
       "      <td>3.400421</td>\n",
       "      <td>0.964310</td>\n",
       "      <td>...</td>\n",
       "      <td>-1.339752</td>\n",
       "      <td>-1.114026</td>\n",
       "      <td>-0.900022</td>\n",
       "      <td>-0.213419</td>\n",
       "      <td>-0.989865</td>\n",
       "      <td>-1.201820</td>\n",
       "      <td>-1.352369</td>\n",
       "      <td>1.061659</td>\n",
       "      <td>-0.207578</td>\n",
       "      <td>1</td>\n",
       "    </tr>\n",
       "    <tr>\n",
       "      <td>...</td>\n",
       "      <td>...</td>\n",
       "      <td>...</td>\n",
       "      <td>...</td>\n",
       "      <td>...</td>\n",
       "      <td>...</td>\n",
       "      <td>...</td>\n",
       "      <td>...</td>\n",
       "      <td>...</td>\n",
       "      <td>...</td>\n",
       "      <td>...</td>\n",
       "      <td>...</td>\n",
       "      <td>...</td>\n",
       "      <td>...</td>\n",
       "      <td>...</td>\n",
       "      <td>...</td>\n",
       "      <td>...</td>\n",
       "      <td>...</td>\n",
       "      <td>...</td>\n",
       "      <td>...</td>\n",
       "      <td>...</td>\n",
       "      <td>...</td>\n",
       "    </tr>\n",
       "    <tr>\n",
       "      <td>138</td>\n",
       "      <td>0.233661</td>\n",
       "      <td>-0.400174</td>\n",
       "      <td>0.201048</td>\n",
       "      <td>0.066014</td>\n",
       "      <td>1.447485</td>\n",
       "      <td>0.495752</td>\n",
       "      <td>0.817337</td>\n",
       "      <td>0.962653</td>\n",
       "      <td>0.530779</td>\n",
       "      <td>-0.090388</td>\n",
       "      <td>...</td>\n",
       "      <td>-0.691634</td>\n",
       "      <td>0.421136</td>\n",
       "      <td>0.159648</td>\n",
       "      <td>0.382749</td>\n",
       "      <td>-0.240875</td>\n",
       "      <td>0.303738</td>\n",
       "      <td>0.793211</td>\n",
       "      <td>0.830317</td>\n",
       "      <td>-0.691358</td>\n",
       "      <td>0</td>\n",
       "    </tr>\n",
       "    <tr>\n",
       "      <td>1</td>\n",
       "      <td>1.829821</td>\n",
       "      <td>-0.353632</td>\n",
       "      <td>1.685955</td>\n",
       "      <td>1.908708</td>\n",
       "      <td>-0.826962</td>\n",
       "      <td>-0.487072</td>\n",
       "      <td>-0.023846</td>\n",
       "      <td>0.548144</td>\n",
       "      <td>0.001392</td>\n",
       "      <td>-0.868652</td>\n",
       "      <td>...</td>\n",
       "      <td>-0.369203</td>\n",
       "      <td>1.535126</td>\n",
       "      <td>1.890489</td>\n",
       "      <td>-0.375612</td>\n",
       "      <td>-0.430444</td>\n",
       "      <td>-0.146749</td>\n",
       "      <td>1.087084</td>\n",
       "      <td>-0.243890</td>\n",
       "      <td>0.281190</td>\n",
       "      <td>0</td>\n",
       "    </tr>\n",
       "    <tr>\n",
       "      <td>176</td>\n",
       "      <td>-1.199475</td>\n",
       "      <td>-0.286147</td>\n",
       "      <td>-1.127336</td>\n",
       "      <td>-1.002515</td>\n",
       "      <td>0.044814</td>\n",
       "      <td>0.474905</td>\n",
       "      <td>0.526062</td>\n",
       "      <td>-0.303315</td>\n",
       "      <td>-0.520693</td>\n",
       "      <td>2.603060</td>\n",
       "      <td>...</td>\n",
       "      <td>-0.209616</td>\n",
       "      <td>-1.018414</td>\n",
       "      <td>-0.862051</td>\n",
       "      <td>-0.099446</td>\n",
       "      <td>0.259131</td>\n",
       "      <td>0.366586</td>\n",
       "      <td>-0.236107</td>\n",
       "      <td>-0.463908</td>\n",
       "      <td>1.787392</td>\n",
       "      <td>1</td>\n",
       "    </tr>\n",
       "    <tr>\n",
       "      <td>295</td>\n",
       "      <td>-0.101476</td>\n",
       "      <td>-1.400813</td>\n",
       "      <td>-0.161014</td>\n",
       "      <td>-0.205313</td>\n",
       "      <td>-0.311725</td>\n",
       "      <td>-0.798444</td>\n",
       "      <td>-0.981414</td>\n",
       "      <td>-0.767349</td>\n",
       "      <td>-0.801815</td>\n",
       "      <td>-0.521339</td>\n",
       "      <td>...</td>\n",
       "      <td>-1.424431</td>\n",
       "      <td>-0.389933</td>\n",
       "      <td>-0.385832</td>\n",
       "      <td>-0.673696</td>\n",
       "      <td>-0.935539</td>\n",
       "      <td>-1.126787</td>\n",
       "      <td>-0.861616</td>\n",
       "      <td>-0.125792</td>\n",
       "      <td>-0.886975</td>\n",
       "      <td>1</td>\n",
       "    </tr>\n",
       "    <tr>\n",
       "      <td>112</td>\n",
       "      <td>0.037691</td>\n",
       "      <td>0.083856</td>\n",
       "      <td>0.241414</td>\n",
       "      <td>-0.071072</td>\n",
       "      <td>-1.280286</td>\n",
       "      <td>2.254449</td>\n",
       "      <td>2.655385</td>\n",
       "      <td>0.749595</td>\n",
       "      <td>-0.392910</td>\n",
       "      <td>2.111151</td>\n",
       "      <td>...</td>\n",
       "      <td>-0.317093</td>\n",
       "      <td>-0.007780</td>\n",
       "      <td>-0.301628</td>\n",
       "      <td>-1.879621</td>\n",
       "      <td>1.049853</td>\n",
       "      <td>1.948330</td>\n",
       "      <td>0.546540</td>\n",
       "      <td>-0.813348</td>\n",
       "      <td>1.344065</td>\n",
       "      <td>1</td>\n",
       "    </tr>\n",
       "  </tbody>\n",
       "</table>\n",
       "<p>569 rows × 31 columns</p>\n",
       "</div>"
      ],
      "text/plain": [
       "     mean radius  mean texture  mean perimeter  mean area  mean smoothness  \\\n",
       "536     0.040531      0.758706        0.074182  -0.071356         0.529451   \n",
       "28      0.333066      1.391668        0.429654   0.220449         0.842579   \n",
       "286    -0.621222      0.342161       -0.580742  -0.608323        -0.733736   \n",
       "398    -0.871154     -1.037790       -0.892140  -0.786932        -1.348605   \n",
       "60     -1.123927     -1.026155       -1.129395  -0.975496         1.212639   \n",
       "..           ...           ...             ...        ...              ...   \n",
       "138     0.233661     -0.400174        0.201048   0.066014         1.447485   \n",
       "1       1.829821     -0.353632        1.685955   1.908708        -0.826962   \n",
       "176    -1.199475     -0.286147       -1.127336  -1.002515         0.044814   \n",
       "295    -0.101476     -1.400813       -0.161014  -0.205313        -0.311725   \n",
       "112     0.037691      0.083856        0.241414  -0.071072        -1.280286   \n",
       "\n",
       "     mean compactness  mean concavity  mean concave points  mean symmetry  \\\n",
       "536          0.209585        0.721919             0.321673       0.417600   \n",
       "28           1.238650        0.998129             0.995412       0.417600   \n",
       "286         -0.061421       -0.289509            -0.283970      -0.816419   \n",
       "398         -1.073809       -0.774382            -1.074916      -1.009919   \n",
       "60          -0.449737       -0.978777            -0.929077       3.400421   \n",
       "..                ...             ...                  ...            ...   \n",
       "138          0.495752        0.817337             0.962653       0.530779   \n",
       "1           -0.487072       -0.023846             0.548144       0.001392   \n",
       "176          0.474905        0.526062            -0.303315      -0.520693   \n",
       "295         -0.798444       -0.981414            -0.767349      -0.801815   \n",
       "112          2.254449        2.655385             0.749595      -0.392910   \n",
       "\n",
       "     mean fractal dimension  ...  worst texture  worst perimeter  worst area  \\\n",
       "536               -0.422107  ...       1.399280        -0.088202   -0.267700   \n",
       "28                 0.368916  ...       1.796619         1.252161    0.682803   \n",
       "286                0.689294  ...       0.262631        -0.448611   -0.587992   \n",
       "398               -0.093223  ...      -0.867505        -0.788467   -0.674833   \n",
       "60                 0.964310  ...      -1.339752        -1.114026   -0.900022   \n",
       "..                      ...  ...            ...              ...         ...   \n",
       "138               -0.090388  ...      -0.691634         0.421136    0.159648   \n",
       "1                 -0.868652  ...      -0.369203         1.535126    1.890489   \n",
       "176                2.603060  ...      -0.209616        -1.018414   -0.862051   \n",
       "295               -0.521339  ...      -1.424431        -0.389933   -0.385832   \n",
       "112                2.111151  ...      -0.317093        -0.007780   -0.301628   \n",
       "\n",
       "     worst smoothness  worst compactness  worst concavity  \\\n",
       "536          0.246858           0.121089         0.725441   \n",
       "28           1.390974           2.269333         1.733401   \n",
       "286         -0.910410           0.171980        -0.171216   \n",
       "398         -0.892875          -0.422174        -0.308426   \n",
       "60          -0.213419          -0.989865        -1.201820   \n",
       "..                ...                ...              ...   \n",
       "138          0.382749          -0.240875         0.303738   \n",
       "1           -0.375612          -0.430444        -0.146749   \n",
       "176         -0.099446           0.259131         0.366586   \n",
       "295         -0.673696          -0.935539        -1.126787   \n",
       "112         -1.879621           1.049853         1.948330   \n",
       "\n",
       "     worst concave points  worst symmetry  worst fractal dimension  label  \n",
       "536              0.328800       -0.328014                -0.024151      0  \n",
       "28               1.336800        1.822016                 0.820940      0  \n",
       "286              0.013609       -0.704957                 0.879127      1  \n",
       "398             -0.899073       -0.502735                 0.423054      1  \n",
       "60              -1.352369        1.061659                -0.207578      1  \n",
       "..                    ...             ...                      ...    ...  \n",
       "138              0.793211        0.830317                -0.691358      0  \n",
       "1                1.087084       -0.243890                 0.281190      0  \n",
       "176             -0.236107       -0.463908                 1.787392      1  \n",
       "295             -0.861616       -0.125792                -0.886975      1  \n",
       "112              0.546540       -0.813348                 1.344065      1  \n",
       "\n",
       "[569 rows x 31 columns]"
      ]
     },
     "execution_count": 24,
     "metadata": {},
     "output_type": "execute_result"
    }
   ],
   "source": [
    "df"
   ]
  },
  {
   "cell_type": "markdown",
   "metadata": {},
   "source": [
    "### 5. Splitting Dataset into Training, Validation and Testing"
   ]
  },
  {
   "cell_type": "code",
   "execution_count": 25,
   "metadata": {},
   "outputs": [],
   "source": [
    "#500 Training\n",
    "X_train = feature[:500]\n",
    "y_train = label[:500]\n",
    "\n",
    "#35 Validation\n",
    "X_val = feature[500:535]\n",
    "y_val = label[500:535]\n",
    "\n",
    "#34 Testing\n",
    "X_test = feature[535:]\n",
    "y_test = label[535:]"
   ]
  },
  {
   "cell_type": "markdown",
   "metadata": {},
   "source": [
    "### 6. Applying models"
   ]
  },
  {
   "cell_type": "code",
   "execution_count": 26,
   "metadata": {},
   "outputs": [],
   "source": [
    "model = Sequential()\n",
    "\n",
    "model.add(Dense(32, activation = 'relu', input_dim = 30))\n",
    "model.add(Dense(64, activation = 'relu'))\n",
    "model.add(Dense(128, activation = 'relu'))\n",
    "model.add(Dense(64, activation = 'relu'))\n",
    "model.add(Dense(32, activation = 'relu'))\n",
    "model.add(Dense(1, activation = 'sigmoid'))\n",
    "\n",
    "model.compile( loss = 'binary_crossentropy' , optimizer = 'adam' , metrics = ['accuracy'])"
   ]
  },
  {
   "cell_type": "code",
   "execution_count": 27,
   "metadata": {},
   "outputs": [
    {
     "name": "stdout",
     "output_type": "stream",
     "text": [
      "Epoch 1/10\n",
      "100/100 [==============================] - 1s 4ms/step - loss: 0.2303 - accuracy: 0.9400 - val_loss: 0.0919 - val_accuracy: 0.9714\n",
      "Epoch 2/10\n",
      "100/100 [==============================] - 0s 2ms/step - loss: 0.0939 - accuracy: 0.9720 - val_loss: 0.0923 - val_accuracy: 0.9714\n",
      "Epoch 3/10\n",
      "100/100 [==============================] - 0s 2ms/step - loss: 0.0566 - accuracy: 0.9780 - val_loss: 0.2657 - val_accuracy: 0.9429\n",
      "Epoch 4/10\n",
      "100/100 [==============================] - 0s 2ms/step - loss: 0.0572 - accuracy: 0.9820 - val_loss: 0.0570 - val_accuracy: 0.9429\n",
      "Epoch 5/10\n",
      "100/100 [==============================] - 0s 2ms/step - loss: 0.0381 - accuracy: 0.9880 - val_loss: 0.1746 - val_accuracy: 0.9714\n",
      "Epoch 6/10\n",
      "100/100 [==============================] - 0s 2ms/step - loss: 0.0406 - accuracy: 0.9840 - val_loss: 0.1196 - val_accuracy: 0.9714\n",
      "Epoch 7/10\n",
      "100/100 [==============================] - 0s 2ms/step - loss: 0.0179 - accuracy: 0.9960 - val_loss: 0.1268 - val_accuracy: 0.9714\n",
      "Epoch 8/10\n",
      "100/100 [==============================] - 0s 2ms/step - loss: 0.0133 - accuracy: 0.9960 - val_loss: 0.1466 - val_accuracy: 0.9714\n",
      "Epoch 9/10\n",
      "100/100 [==============================] - 0s 2ms/step - loss: 0.0099 - accuracy: 0.9960 - val_loss: 0.1314 - val_accuracy: 0.9714\n",
      "Epoch 10/10\n",
      "100/100 [==============================] - 0s 2ms/step - loss: 0.0052 - accuracy: 0.9980 - val_loss: 0.1611 - val_accuracy: 0.9714\n"
     ]
    },
    {
     "data": {
      "text/plain": [
       "<keras.callbacks.History at 0x1ef9b4b1e48>"
      ]
     },
     "execution_count": 27,
     "metadata": {},
     "output_type": "execute_result"
    }
   ],
   "source": [
    "model.fit( X_train , y_train, epochs = 10, batch_size = 5, validation_data = (X_val, y_val))"
   ]
  },
  {
   "cell_type": "markdown",
   "metadata": {},
   "source": [
    "### 7. Evaluating Testing and Validation Data"
   ]
  },
  {
   "cell_type": "code",
   "execution_count": 28,
   "metadata": {},
   "outputs": [
    {
     "name": "stdout",
     "output_type": "stream",
     "text": [
      "2/2 [==============================] - 0s 9ms/step - loss: 0.2472 - accuracy: 0.9706\n"
     ]
    },
    {
     "data": {
      "text/plain": [
       "[0.24723052978515625, 0.970588207244873]"
      ]
     },
     "execution_count": 28,
     "metadata": {},
     "output_type": "execute_result"
    }
   ],
   "source": [
    "model.evaluate(X_test , y_test)"
   ]
  },
  {
   "cell_type": "code",
   "execution_count": 29,
   "metadata": {},
   "outputs": [
    {
     "name": "stdout",
     "output_type": "stream",
     "text": [
      "2/2 [==============================] - 0s 3ms/step - loss: 0.1611 - accuracy: 0.9714\n"
     ]
    },
    {
     "data": {
      "text/plain": [
       "[0.16111993789672852, 0.9714285731315613]"
      ]
     },
     "execution_count": 29,
     "metadata": {},
     "output_type": "execute_result"
    }
   ],
   "source": [
    "model.evaluate(X_val , y_val)"
   ]
  },
  {
   "cell_type": "markdown",
   "metadata": {},
   "source": [
    "### 8. Predicting on Sample Data"
   ]
  },
  {
   "cell_type": "code",
   "execution_count": 37,
   "metadata": {},
   "outputs": [
    {
     "name": "stdout",
     "output_type": "stream",
     "text": [
      "-Malignant\n",
      "*Melignant\n",
      "-----------\n",
      "-Benign\n",
      "*Benign\n",
      "-----------\n",
      "-Malignant\n",
      "*Melignant\n",
      "-----------\n",
      "-Benign\n",
      "*Benign\n",
      "-----------\n",
      "-Malignant\n",
      "*Melignant\n",
      "-----------\n",
      "-Benign\n",
      "*Benign\n",
      "-----------\n",
      "-Benign\n",
      "*Benign\n",
      "-----------\n",
      "-Benign\n",
      "*Benign\n",
      "-----------\n",
      "-Malignant\n",
      "*Melignant\n",
      "-----------\n",
      "-Malignant\n",
      "*Melignant\n",
      "-----------\n",
      "-Benign\n",
      "*Benign\n",
      "-----------\n",
      "-Benign\n",
      "*Benign\n",
      "-----------\n",
      "-Malignant\n",
      "*Melignant\n",
      "-----------\n",
      "-Benign\n",
      "*Melignant\n",
      "-----------\n",
      "-Malignant\n",
      "*Melignant\n",
      "-----------\n",
      "-Benign\n",
      "*Benign\n",
      "-----------\n",
      "-Benign\n",
      "*Benign\n",
      "-----------\n",
      "-Malignant\n",
      "*Melignant\n",
      "-----------\n",
      "-Malignant\n",
      "*Melignant\n",
      "-----------\n",
      "-Benign\n",
      "*Benign\n",
      "-----------\n",
      "-Benign\n",
      "*Benign\n",
      "-----------\n",
      "-Benign\n",
      "*Benign\n",
      "-----------\n",
      "-Benign\n",
      "*Benign\n",
      "-----------\n",
      "-Benign\n",
      "*Benign\n",
      "-----------\n",
      "-Benign\n",
      "*Benign\n",
      "-----------\n",
      "-Malignant\n",
      "*Melignant\n",
      "-----------\n",
      "-Benign\n",
      "*Benign\n",
      "-----------\n",
      "-Benign\n",
      "*Benign\n",
      "-----------\n",
      "-Benign\n",
      "*Benign\n",
      "-----------\n",
      "-Malignant\n",
      "*Melignant\n",
      "-----------\n"
     ]
    }
   ],
   "source": [
    "for i in range(30):\n",
    "  sample = X_test[i]\n",
    "  sample = np.reshape(sample, (1,30))\n",
    "\n",
    "  if (model.predict(sample)[0][0] > 0.5):\n",
    "    print(\"-Benign\")\n",
    "  else:\n",
    "    print(\"-Malignant\")\n",
    "\n",
    "  if (y_test[i] == 1):\n",
    "    print(\"*Benign\")\n",
    "  else:\n",
    "    print(\"*Melignant\")\n",
    "  print(\"-----------\")"
   ]
  },
  {
   "cell_type": "markdown",
   "metadata": {},
   "source": [
    "##### By Shreya Garg\n"
   ]
  }
 ],
 "metadata": {
  "kernelspec": {
   "display_name": "Python 3",
   "language": "python",
   "name": "python3"
  },
  "language_info": {
   "codemirror_mode": {
    "name": "ipython",
    "version": 3
   },
   "file_extension": ".py",
   "mimetype": "text/x-python",
   "name": "python",
   "nbconvert_exporter": "python",
   "pygments_lexer": "ipython3",
   "version": "3.7.4"
  }
 },
 "nbformat": 4,
 "nbformat_minor": 2
}
