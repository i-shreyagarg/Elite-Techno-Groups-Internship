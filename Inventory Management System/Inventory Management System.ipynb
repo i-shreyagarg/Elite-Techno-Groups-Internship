{
 "cells": [
  {
   "cell_type": "markdown",
   "metadata": {},
   "source": [
    "# Inventory Management System\n"
   ]
  },
  {
   "cell_type": "markdown",
   "metadata": {},
   "source": [
    "This is an Inventory Management System which has two users:"
   ]
  },
  {
   "cell_type": "markdown",
   "metadata": {},
   "source": [
    "a) Employee:\n",
    " 1. See inventory\n",
    " 2. Add new items\n",
    " 3. See the sales of the day"
   ]
  },
  {
   "cell_type": "markdown",
   "metadata": {},
   "source": [
    "b) Customer\n",
    "   1. See inventory\n",
    "   2. Purchase items and see bill"
   ]
  },
  {
   "cell_type": "markdown",
   "metadata": {},
   "source": [
    "### 1. Importing the data (json file)"
   ]
  },
  {
   "cell_type": "code",
   "execution_count": 1,
   "metadata": {},
   "outputs": [],
   "source": [
    "import json"
   ]
  },
  {
   "cell_type": "code",
   "execution_count": 2,
   "metadata": {},
   "outputs": [],
   "source": [
    "fd=open('records.json','r')\n",
    "record=fd.read()"
   ]
  },
  {
   "cell_type": "code",
   "execution_count": 3,
   "metadata": {},
   "outputs": [],
   "source": [
    "#converting json(str type) to dict\n",
    "records=json.loads(record)"
   ]
  },
  {
   "cell_type": "code",
   "execution_count": 4,
   "metadata": {
    "scrolled": false
   },
   "outputs": [
    {
     "data": {
      "text/plain": [
       "{'101': {'Product Name': \"Kellog's Cereals\",\n",
       "  'Price': 150,\n",
       "  'Quantity': 7,\n",
       "  'Expiry Date': '30-09-2021',\n",
       "  'Discount': 0},\n",
       " '102': {'Product Name': 'Bread',\n",
       "  'Price': 40,\n",
       "  'Quantity': 20,\n",
       "  'Expiry Date': '10-09-2021',\n",
       "  'Discount': 0},\n",
       " '103': {'Product Name': 'Peanut Butter',\n",
       "  'Price': 200,\n",
       "  'Quantity': 10,\n",
       "  'Expiry Date': '27-09-2021',\n",
       "  'Discount': 0},\n",
       " '104': {'Product Name': 'Mayonnaise',\n",
       "  'Price': 130,\n",
       "  'Quantity': 5,\n",
       "  'Expiry Date': '02-09-2021',\n",
       "  'Discount': 0},\n",
       " '105': {'Product Name': 'Macaroni',\n",
       "  'Price': 300,\n",
       "  'Quantity': 15,\n",
       "  'Expiry Date': '25-11-2022',\n",
       "  'Discount': 0},\n",
       " '106': {'Product Name': 'Cheese',\n",
       "  'Price': 400,\n",
       "  'Quantity': 20,\n",
       "  'Expiry Date': '15-09-2021',\n",
       "  'Discount': 0},\n",
       " '107': {'Product Name': 'Vanilla Muffin',\n",
       "  'Price': 30,\n",
       "  'Quantity': 30,\n",
       "  'Expiry Date': '13-09-2021',\n",
       "  'Discount': 0},\n",
       " '108': {'Product Name': 'Chocochip Muffin',\n",
       "  'Price': 35,\n",
       "  'Quantity': 40,\n",
       "  'Expiry Date': '13-09-2021',\n",
       "  'Discount': 0},\n",
       " '109': {'Product Name': 'Marshmallow',\n",
       "  'Price': 100,\n",
       "  'Quantity': 30,\n",
       "  'Expiry Date': '01-09-2021',\n",
       "  'Discount': 0},\n",
       " '110': {'Product Name': 'Ketchup',\n",
       "  'Price': 150,\n",
       "  'Quantity': 25,\n",
       "  'Expiry Date': '20-09-2021',\n",
       "  'Discount': 15},\n",
       " '111': {'Product Name': 'Schezwan Sauce',\n",
       "  'Price': 175,\n",
       "  'Quantity': 15,\n",
       "  'Expiry Date': '25-10-2021',\n",
       "  'Discount': 10},\n",
       " '112': {'Product Name': 'Pineapple Jam',\n",
       "  'Price': 140,\n",
       "  'Quantity': 20,\n",
       "  'Expiry Date': '23-09-2021',\n",
       "  'Discount': 0},\n",
       " '113': {'Product Name': 'Mixed Fruit Jam',\n",
       "  'Price': 125,\n",
       "  'Quantity': 30,\n",
       "  'Expiry Date': '23-09-2021',\n",
       "  'Discount': 5},\n",
       " '114': {'Product Name': 'Honey',\n",
       "  'Price': 225,\n",
       "  'Quantity': 50,\n",
       "  'Expiry Date': '14-12-2021',\n",
       "  'Discount': 5},\n",
       " '115': {'Product Name': 'Vanilla Ice Cream ',\n",
       "  'Price': 20,\n",
       "  'Quantity': 40,\n",
       "  'Expiry Date': '08-09-2021',\n",
       "  'Discount': 0},\n",
       " '116': {'Product Name': 'Chocolate Ice Cream',\n",
       "  'Price': 20,\n",
       "  'Quantity': 60,\n",
       "  'Expiry Date': '08-09-2021',\n",
       "  'Discount': 0},\n",
       " '117': {'Product Name': 'Energy Bar',\n",
       "  'Price': 30,\n",
       "  'Quantity': 30,\n",
       "  'Expiry Date': '10-10-2021',\n",
       "  'Discount': 0},\n",
       " '118': {'Product Name': 'Choco Chip Cookies',\n",
       "  'Price': 35,\n",
       "  'Quantity': 60,\n",
       "  'Expiry Date': '16-11-2021',\n",
       "  'Discount': 0},\n",
       " '119': {'Product Name': 'Classic Salted Lays',\n",
       "  'Price': 20,\n",
       "  'Quantity': 75,\n",
       "  'Expiry Date': '18-11-2021',\n",
       "  'Discount': 0},\n",
       " '120': {'Product Name': 'Maggie',\n",
       "  'Price': 100,\n",
       "  'Quantity': 100,\n",
       "  'Expiry Date': '19-12-2021',\n",
       "  'Discount': 10},\n",
       " '121': {'Product Name': 'Hide and Seek Biscuit',\n",
       "  'Price': 30,\n",
       "  'Quantity': 50,\n",
       "  'Expiry Date': '26-10-2021',\n",
       "  'Discount': 0},\n",
       " '122': {'Product Name': 'McCain Smileys',\n",
       "  'Price': 200,\n",
       "  'Quantity': 20,\n",
       "  'Expiry Date': '09-01-2022',\n",
       "  'Discount': 0},\n",
       " '123': {'Product Name': 'Aaloo Bhujia',\n",
       "  'Price': 75,\n",
       "  'Quantity': 100,\n",
       "  'Expiry Date': '03-11-2021',\n",
       "  'Discount': 0},\n",
       " '124': {'Product Name': 'Lollipop',\n",
       "  'Price': 10,\n",
       "  'Quantity': 30,\n",
       "  'Expiry Date': '11-09-2021',\n",
       "  'Discount': 0},\n",
       " '125': {'Product Name': 'Amul Milk',\n",
       "  'Price': 70,\n",
       "  'Quantity': 110,\n",
       "  'Expiry Date': '10-09-2021',\n",
       "  'Discount': 0},\n",
       " '126': {'Product Name': 'Jelllies',\n",
       "  'Price': 5,\n",
       "  'Quantity': 30,\n",
       "  'Expiry Date': '31-08-2021',\n",
       "  'Discount': 0},\n",
       " '127': {'Product Name': 'Melody Toffee',\n",
       "  'Price': 2,\n",
       "  'Quantity': 50,\n",
       "  'Expiry Date': '29-09-2021',\n",
       "  'Discount': 0},\n",
       " '128': {'Product Name': 'Soya Sauce',\n",
       "  'Price': 160,\n",
       "  'Quantity': 15,\n",
       "  'Expiry Date': '15-09-2021',\n",
       "  'Discount': 0},\n",
       " '129': {'Product Name': 'Oreo Biscuits',\n",
       "  'Price': 30,\n",
       "  'Quantity': 40,\n",
       "  'Expiry Date': '17-10-2021',\n",
       "  'Discount': 0},\n",
       " '130': {'Product Name': 'Murukku',\n",
       "  'Price': 155,\n",
       "  'Quantity': 35,\n",
       "  'Expiry Date': '20-12-2021',\n",
       "  'Discount': 5}}"
      ]
     },
     "execution_count": 4,
     "metadata": {},
     "output_type": "execute_result"
    }
   ],
   "source": [
    "records"
   ]
  },
  {
   "cell_type": "code",
   "execution_count": 5,
   "metadata": {},
   "outputs": [
    {
     "data": {
      "text/plain": [
       "30"
      ]
     },
     "execution_count": 5,
     "metadata": {},
     "output_type": "execute_result"
    }
   ],
   "source": [
    "fd.close()\n",
    "len(records)"
   ]
  },
  {
   "cell_type": "markdown",
   "metadata": {},
   "source": [
    "### 2. Defining Functions to perform in user types"
   ]
  },
  {
   "cell_type": "code",
   "execution_count": 6,
   "metadata": {},
   "outputs": [],
   "source": [
    "from datetime import date as dt"
   ]
  },
  {
   "cell_type": "code",
   "execution_count": 7,
   "metadata": {},
   "outputs": [],
   "source": [
    "def see_inv():\n",
    "    print(records)\n",
    "    pass"
   ]
  },
  {
   "cell_type": "code",
   "execution_count": 8,
   "metadata": {},
   "outputs": [],
   "source": [
    "def add():\n",
    "    #user input\n",
    "    product_id=input(\"Please enter Product ID \")\n",
    "    product_name=input(\"Please enter Product Name \")\n",
    "    price=int(input(\"Please enter Price \"))\n",
    "    quantity=int(input(\"Please enter Qunatity \"))\n",
    "    expiry_date=input(\"Please enter Expiry Date (date-month-year) \")\n",
    "    discount=int(input(\"Please enter Disocunt \"))\n",
    "    \n",
    "    #update records by adding new key to dictionary\n",
    "    records[product_id]={\"Product Name\": product_name, \"Price\": price, \"Quantity\": quantity, \"Expiry Date\": expiry_date, \"Discount\": discount}\n",
    "    \n",
    "    #update records in json file\n",
    "    js=json.dumps(records)\n",
    "    fd=open('records.json','w')\n",
    "    fd.write(js)\n",
    "    fd.close()\n",
    "    pass"
   ]
  },
  {
   "cell_type": "code",
   "execution_count": 26,
   "metadata": {},
   "outputs": [],
   "source": [
    "def update(product_id,quantity):\n",
    "    #subtracting the quantities purchased\n",
    "    records[product_id]['Quantity']=records[product_id]['Quantity']-quantity\n",
    "\n",
    "    #update records in json file\n",
    "    js=json.dumps(records)\n",
    "    fd=open('records.json','w')\n",
    "    fd.write(js)\n",
    "    fd.close()\n",
    "    pass"
   ]
  },
  {
   "cell_type": "code",
   "execution_count": 27,
   "metadata": {},
   "outputs": [],
   "source": [
    "def sales():\n",
    "    df=open(\"sales.json\",'r')\n",
    "    reading=df.read()\n",
    "    sales=json.loads(reading)\n",
    "    print(sales)\n",
    "    df.close()\n",
    "    pass"
   ]
  },
  {
   "cell_type": "code",
   "execution_count": 38,
   "metadata": {},
   "outputs": [],
   "source": [
    "def see_sales(product_id,quantity,amount):\n",
    "    #opening previous sales\n",
    "    fd=open(\"sales.json\",'r')\n",
    "    reading=fd.read()\n",
    "    sales=json.loads(reading)\n",
    "        \n",
    "    sales[(len(sales)+1)]={'Product Id' : product_id , 'Quantity' : quantity , 'Amount': amount }\n",
    "\n",
    "    #updating json\n",
    "    js=json.dumps(sales)\n",
    "    pd=open(\"sales.json\",'w')\n",
    "    pd.write(js)\n",
    "    pd.close()\n",
    "    pass"
   ]
  },
  {
   "cell_type": "code",
   "execution_count": 29,
   "metadata": {},
   "outputs": [],
   "source": [
    "#checking quantity\n",
    "flag_quant=0\n",
    "def quant_check(quant_ori,quant_new):\n",
    "    if(quant_ori<quant_new):\n",
    "        flag_quant=0\n",
    "    else:\n",
    "        flag_quant=1\n",
    "    return flag_quant"
   ]
  },
  {
   "cell_type": "code",
   "execution_count": 30,
   "metadata": {},
   "outputs": [],
   "source": [
    "#checking expiry\n",
    "date=dt.today()\n",
    "date=str(date)\n",
    "date=date.split('-')\n",
    "temp=date[2]\n",
    "date[2]=date[0]\n",
    "date[0]=temp\n",
    "date= list(map(int, date))\n",
    "\n",
    "\n",
    "def expiry_check(date_now):\n",
    "    date_now=date_now.split('-')\n",
    "    date_now= list(map(int, date_now))\n",
    "    flag=0 #expired\n",
    "    if(date_now[2]<date[2]):\n",
    "        flag=0\n",
    "    elif(date_now[2]==date[2]):\n",
    "        if(date_now[1]<date[1]):\n",
    "            flag=0\n",
    "        elif(date_now[1]==date[1]):\n",
    "            if(date_now[0]<date[0]):\n",
    "                flag=0\n",
    "            else:\n",
    "                flag=1\n",
    "        else:\n",
    "            flag=1\n",
    "    else:\n",
    "        flag=1\n",
    "        \n",
    "    return flag"
   ]
  },
  {
   "cell_type": "code",
   "execution_count": 32,
   "metadata": {},
   "outputs": [],
   "source": [
    "def purchse_item():\n",
    "    #user input\n",
    "    product_id=input(\"Please enter Product ID \")\n",
    "    quantity=int(input(\"Please enter Qunatity \"))\n",
    "    \n",
    "    print(\"Product Name: \", records[product_id]['Product Name'])\n",
    "    print(\"Price: \", records[product_id]['Price'])\n",
    "    print(\"Quantity: \", records[product_id]['Quantity'])\n",
    "    print(\"Expiry Date: \", records[product_id]['Expiry Date'])\n",
    "    print(\"Discount: \", records[product_id]['Discount'])\n",
    "    \n",
    "    #quantity\n",
    "    flag_quant=quant_check(records[product_id]['Quantity'],quantity)\n",
    "    if(flag_quant==0):\n",
    "        print(\"****Not enough quantity, Sorry for the inconvenience!****\")\n",
    "    else:\n",
    "        #expiry\n",
    "        flag=expiry_check(records[product_id]['Expiry Date'])\n",
    "        if(flag==0):\n",
    "            print(\"****Product Expired, Sorry for the inconvenience!****\")\n",
    "        else:\n",
    "            if(records[product_id]['Discount']<=0):\n",
    "                #Bill\n",
    "                print(\"***No Discounts provided.***\")\n",
    "                amount=records[product_id]['Price']*quantity\n",
    "                print(\"***TOTAL AMOUNT TO PAY: Rs.\" , amount)\n",
    "                \n",
    "                #updations in records and sales\n",
    "                update(product_id,quantity)\n",
    "                see_sales(product_id,quantity,amount)\n",
    "                \n",
    "            else:\n",
    "                #Bill\n",
    "                print(\"***Discount given: \", records[product_id]['Discount'] , \"%***\")\n",
    "                discount=records[product_id]['Discount']\n",
    "                amount=records[product_id]['Price']*quantity\n",
    "                after_discount=amount-((amount*discount)/100)\n",
    "                print(\"***TOTAL AMOUNT TO PAY: Rs.\" , after_discount)\n",
    "                \n",
    "                #updations in records and sales\n",
    "                update(product_id,quantity)\n",
    "                see_sales(product_id,quantity,after_discount)\n",
    "    pass"
   ]
  },
  {
   "cell_type": "markdown",
   "metadata": {},
   "source": [
    " ### 3. Employee"
   ]
  },
  {
   "cell_type": "code",
   "execution_count": 33,
   "metadata": {},
   "outputs": [],
   "source": [
    "#asking function to perform\n",
    "def employee():\n",
    "    choice=int(input(\"Please type 1, 2, 3 ,4 or 5 and select function: \\n 1. See inventory \\n 2. Add new items \\n 3. See the sales of the day\\n \"))\n",
    "    if(choice == 1):\n",
    "        see_inv()\n",
    "    elif(choice == 2):\n",
    "        add()\n",
    "    elif(choice == 3):\n",
    "        sales()\n",
    "    else:\n",
    "        print(\"Invalid input\")\n",
    "    pass"
   ]
  },
  {
   "cell_type": "markdown",
   "metadata": {},
   "source": [
    "### 4. Customer"
   ]
  },
  {
   "cell_type": "code",
   "execution_count": 34,
   "metadata": {},
   "outputs": [],
   "source": [
    "#asking function to perform\n",
    "def customer():\n",
    "    choice=int(input(\"Please type 1 or 2 and select function: \\n 1. See inventory \\n 2. Purchase Items and see bill\\n \"))\n",
    "    if(choice == 1):\n",
    "        see_inv()\n",
    "    elif(choice == 2):\n",
    "        purchse_item()\n",
    "    else:\n",
    "        print(\"Invalid input\")\n",
    "    pass"
   ]
  },
  {
   "cell_type": "markdown",
   "metadata": {},
   "source": [
    "### 5. User Type"
   ]
  },
  {
   "cell_type": "code",
   "execution_count": 35,
   "metadata": {},
   "outputs": [],
   "source": [
    "#####displaying for employee"
   ]
  },
  {
   "cell_type": "code",
   "execution_count": 36,
   "metadata": {},
   "outputs": [
    {
     "name": "stdout",
     "output_type": "stream",
     "text": [
      "Please type 1 or 2 and select user type: \n",
      " 1. Employee \n",
      " 2. Customer \n",
      "1\n",
      "Please type 1, 2, 3 ,4 or 5 and select function: \n",
      " 1. See inventory \n",
      " 2. Add new items \n",
      " 3. See the sales of the day\n",
      " 1\n",
      "{'101': {'Product Name': \"Kellog's Cereals\", 'Price': 150, 'Quantity': 7, 'Expiry Date': '30-09-2021', 'Discount': 0}, '102': {'Product Name': 'Bread', 'Price': 40, 'Quantity': 20, 'Expiry Date': '10-09-2021', 'Discount': 0}, '103': {'Product Name': 'Peanut Butter', 'Price': 200, 'Quantity': 10, 'Expiry Date': '27-09-2021', 'Discount': 0}, '104': {'Product Name': 'Mayonnaise', 'Price': 130, 'Quantity': 5, 'Expiry Date': '02-09-2021', 'Discount': 0}, '105': {'Product Name': 'Macaroni', 'Price': 300, 'Quantity': 15, 'Expiry Date': '25-11-2022', 'Discount': 0}, '106': {'Product Name': 'Cheese', 'Price': 400, 'Quantity': 20, 'Expiry Date': '15-09-2021', 'Discount': 0}, '107': {'Product Name': 'Vanilla Muffin', 'Price': 30, 'Quantity': 30, 'Expiry Date': '13-09-2021', 'Discount': 0}, '108': {'Product Name': 'Chocochip Muffin', 'Price': 35, 'Quantity': 40, 'Expiry Date': '13-09-2021', 'Discount': 0}, '109': {'Product Name': 'Marshmallow', 'Price': 100, 'Quantity': 30, 'Expiry Date': '01-09-2021', 'Discount': 0}, '110': {'Product Name': 'Ketchup', 'Price': 150, 'Quantity': 25, 'Expiry Date': '20-09-2021', 'Discount': 15}, '111': {'Product Name': 'Schezwan Sauce', 'Price': 175, 'Quantity': 15, 'Expiry Date': '25-10-2021', 'Discount': 10}, '112': {'Product Name': 'Pineapple Jam', 'Price': 140, 'Quantity': 20, 'Expiry Date': '23-09-2021', 'Discount': 0}, '113': {'Product Name': 'Mixed Fruit Jam', 'Price': 125, 'Quantity': 30, 'Expiry Date': '23-09-2021', 'Discount': 5}, '114': {'Product Name': 'Honey', 'Price': 225, 'Quantity': 50, 'Expiry Date': '14-12-2021', 'Discount': 5}, '115': {'Product Name': 'Vanilla Ice Cream ', 'Price': 20, 'Quantity': 40, 'Expiry Date': '08-09-2021', 'Discount': 0}, '116': {'Product Name': 'Chocolate Ice Cream', 'Price': 20, 'Quantity': 60, 'Expiry Date': '08-09-2021', 'Discount': 0}, '117': {'Product Name': 'Energy Bar', 'Price': 30, 'Quantity': 30, 'Expiry Date': '10-10-2021', 'Discount': 0}, '118': {'Product Name': 'Choco Chip Cookies', 'Price': 35, 'Quantity': 60, 'Expiry Date': '16-11-2021', 'Discount': 0}, '119': {'Product Name': 'Classic Salted Lays', 'Price': 20, 'Quantity': 75, 'Expiry Date': '18-11-2021', 'Discount': 0}, '120': {'Product Name': 'Maggie', 'Price': 100, 'Quantity': 100, 'Expiry Date': '19-12-2021', 'Discount': 10}, '121': {'Product Name': 'Hide and Seek Biscuit', 'Price': 30, 'Quantity': 50, 'Expiry Date': '26-10-2021', 'Discount': 0}, '122': {'Product Name': 'McCain Smileys', 'Price': 200, 'Quantity': 20, 'Expiry Date': '09-01-2022', 'Discount': 0}, '123': {'Product Name': 'Aaloo Bhujia', 'Price': 75, 'Quantity': 100, 'Expiry Date': '03-11-2021', 'Discount': 0}, '124': {'Product Name': 'Lollipop', 'Price': 10, 'Quantity': 30, 'Expiry Date': '11-09-2021', 'Discount': 0}, '125': {'Product Name': 'Amul Milk', 'Price': 70, 'Quantity': 110, 'Expiry Date': '10-09-2021', 'Discount': 0}, '126': {'Product Name': 'Jelllies', 'Price': 5, 'Quantity': 30, 'Expiry Date': '31-08-2021', 'Discount': 0}, '127': {'Product Name': 'Melody Toffee', 'Price': 2, 'Quantity': 50, 'Expiry Date': '29-09-2021', 'Discount': 0}, '128': {'Product Name': 'Soya Sauce', 'Price': 160, 'Quantity': 15, 'Expiry Date': '15-09-2021', 'Discount': 0}, '129': {'Product Name': 'Oreo Biscuits', 'Price': 30, 'Quantity': 40, 'Expiry Date': '17-10-2021', 'Discount': 0}, '130': {'Product Name': 'Murukku', 'Price': 155, 'Quantity': 35, 'Expiry Date': '20-12-2021', 'Discount': 5}, '131': {'Product Name': 'Butterscotch Ice Cream', 'Price': 30, 'Quantity': 10, 'Expiry Date': '09-10-2021', 'Discount': 0}}\n"
     ]
    }
   ],
   "source": [
    "choice=int(input(\"Please type 1 or 2 and select user type: \\n 1. Employee \\n 2. Customer \\n\"))\n",
    "if(choice == 1):\n",
    "    employee()\n",
    "elif(choice == 2):\n",
    "    customer()\n",
    "else:\n",
    "    print(\"Invalid input\")"
   ]
  },
  {
   "cell_type": "code",
   "execution_count": 19,
   "metadata": {},
   "outputs": [
    {
     "name": "stdout",
     "output_type": "stream",
     "text": [
      "Please type 1 or 2 and select user type: \n",
      " 1. Employee \n",
      " 2. Customer \n",
      "1\n",
      "Please type 1, 2, 3 ,4 or 5 and select function: \n",
      " 1. See inventory \n",
      " 2. Add new items \n",
      " 3. See the sales of the day\n",
      " 2\n",
      "Please enter Product ID 131\n",
      "Please enter Product Name Butterscotch Ice Cream\n",
      "Please enter Price 30\n",
      "Please enter Qunatity 10\n",
      "Please enter Expiry Date (date-month-year) 09-10-2021\n",
      "Please enter Disocunt 0\n"
     ]
    }
   ],
   "source": [
    "choice=int(input(\"Please type 1 or 2 and select user type: \\n 1. Employee \\n 2. Customer \\n\"))\n",
    "if(choice == 1):\n",
    "    employee()\n",
    "elif(choice == 2):\n",
    "    customer()\n",
    "else:\n",
    "    print(\"Invalid input\")"
   ]
  },
  {
   "cell_type": "code",
   "execution_count": 20,
   "metadata": {},
   "outputs": [
    {
     "name": "stdout",
     "output_type": "stream",
     "text": [
      "Please type 1 or 2 and select user type: \n",
      " 1. Employee \n",
      " 2. Customer \n",
      "1\n",
      "Please type 1, 2, 3 ,4 or 5 and select function: \n",
      " 1. See inventory \n",
      " 2. Add new items \n",
      " 3. See the sales of the day\n",
      " 3\n",
      "{'1': {'Product Id': 101, 'Quantity': 3, 'Amount': 450}, '2': {'Product Id': 108, 'Quantity': 2, 'Amount': 70}, '3': {'Product Id': 127, 'Quantity': 10, 'Amount': 20}}\n"
     ]
    }
   ],
   "source": [
    "choice=int(input(\"Please type 1 or 2 and select user type: \\n 1. Employee \\n 2. Customer \\n\"))\n",
    "if(choice == 1):\n",
    "    employee()\n",
    "elif(choice == 2):\n",
    "    customer()\n",
    "else:\n",
    "    print(\"Invalid input\")"
   ]
  },
  {
   "cell_type": "code",
   "execution_count": 21,
   "metadata": {},
   "outputs": [
    {
     "name": "stdout",
     "output_type": "stream",
     "text": [
      "Please type 1 or 2 and select user type: \n",
      " 1. Employee \n",
      " 2. Customer \n",
      "5\n",
      "Invalid input\n"
     ]
    }
   ],
   "source": [
    "choice=int(input(\"Please type 1 or 2 and select user type: \\n 1. Employee \\n 2. Customer \\n\"))\n",
    "if(choice == 1):\n",
    "    employee()\n",
    "elif(choice == 2):\n",
    "    customer()\n",
    "else:\n",
    "    print(\"Invalid input\")"
   ]
  },
  {
   "cell_type": "code",
   "execution_count": null,
   "metadata": {},
   "outputs": [],
   "source": [
    "#####displaying for customer"
   ]
  },
  {
   "cell_type": "code",
   "execution_count": 22,
   "metadata": {},
   "outputs": [
    {
     "name": "stdout",
     "output_type": "stream",
     "text": [
      "Please type 1 or 2 and select user type: \n",
      " 1. Employee \n",
      " 2. Customer \n",
      "2\n",
      "Please type 1 or 2 and select function: \n",
      " 1. See inventory \n",
      " 2. Purchase Items and see bill\n",
      " 1\n",
      "{'101': {'Product Name': \"Kellog's Cereals\", 'Price': 150, 'Quantity': 7, 'Expiry Date': '30-09-2021', 'Discount': 0}, '102': {'Product Name': 'Bread', 'Price': 40, 'Quantity': 20, 'Expiry Date': '10-09-2021', 'Discount': 0}, '103': {'Product Name': 'Peanut Butter', 'Price': 200, 'Quantity': 10, 'Expiry Date': '27-09-2021', 'Discount': 0}, '104': {'Product Name': 'Mayonnaise', 'Price': 130, 'Quantity': 5, 'Expiry Date': '02-09-2021', 'Discount': 0}, '105': {'Product Name': 'Macaroni', 'Price': 300, 'Quantity': 15, 'Expiry Date': '25-11-2022', 'Discount': 0}, '106': {'Product Name': 'Cheese', 'Price': 400, 'Quantity': 20, 'Expiry Date': '15-09-2021', 'Discount': 0}, '107': {'Product Name': 'Vanilla Muffin', 'Price': 30, 'Quantity': 30, 'Expiry Date': '13-09-2021', 'Discount': 0}, '108': {'Product Name': 'Chocochip Muffin', 'Price': 35, 'Quantity': 40, 'Expiry Date': '13-09-2021', 'Discount': 0}, '109': {'Product Name': 'Marshmallow', 'Price': 100, 'Quantity': 30, 'Expiry Date': '01-09-2021', 'Discount': 0}, '110': {'Product Name': 'Ketchup', 'Price': 150, 'Quantity': 25, 'Expiry Date': '20-09-2021', 'Discount': 15}, '111': {'Product Name': 'Schezwan Sauce', 'Price': 175, 'Quantity': 15, 'Expiry Date': '25-10-2021', 'Discount': 10}, '112': {'Product Name': 'Pineapple Jam', 'Price': 140, 'Quantity': 20, 'Expiry Date': '23-09-2021', 'Discount': 0}, '113': {'Product Name': 'Mixed Fruit Jam', 'Price': 125, 'Quantity': 30, 'Expiry Date': '23-09-2021', 'Discount': 5}, '114': {'Product Name': 'Honey', 'Price': 225, 'Quantity': 50, 'Expiry Date': '14-12-2021', 'Discount': 5}, '115': {'Product Name': 'Vanilla Ice Cream ', 'Price': 20, 'Quantity': 40, 'Expiry Date': '08-09-2021', 'Discount': 0}, '116': {'Product Name': 'Chocolate Ice Cream', 'Price': 20, 'Quantity': 60, 'Expiry Date': '08-09-2021', 'Discount': 0}, '117': {'Product Name': 'Energy Bar', 'Price': 30, 'Quantity': 30, 'Expiry Date': '10-10-2021', 'Discount': 0}, '118': {'Product Name': 'Choco Chip Cookies', 'Price': 35, 'Quantity': 60, 'Expiry Date': '16-11-2021', 'Discount': 0}, '119': {'Product Name': 'Classic Salted Lays', 'Price': 20, 'Quantity': 75, 'Expiry Date': '18-11-2021', 'Discount': 0}, '120': {'Product Name': 'Maggie', 'Price': 100, 'Quantity': 100, 'Expiry Date': '19-12-2021', 'Discount': 10}, '121': {'Product Name': 'Hide and Seek Biscuit', 'Price': 30, 'Quantity': 50, 'Expiry Date': '26-10-2021', 'Discount': 0}, '122': {'Product Name': 'McCain Smileys', 'Price': 200, 'Quantity': 20, 'Expiry Date': '09-01-2022', 'Discount': 0}, '123': {'Product Name': 'Aaloo Bhujia', 'Price': 75, 'Quantity': 100, 'Expiry Date': '03-11-2021', 'Discount': 0}, '124': {'Product Name': 'Lollipop', 'Price': 10, 'Quantity': 30, 'Expiry Date': '11-09-2021', 'Discount': 0}, '125': {'Product Name': 'Amul Milk', 'Price': 70, 'Quantity': 110, 'Expiry Date': '10-09-2021', 'Discount': 0}, '126': {'Product Name': 'Jelllies', 'Price': 5, 'Quantity': 30, 'Expiry Date': '31-08-2021', 'Discount': 0}, '127': {'Product Name': 'Melody Toffee', 'Price': 2, 'Quantity': 50, 'Expiry Date': '29-09-2021', 'Discount': 0}, '128': {'Product Name': 'Soya Sauce', 'Price': 160, 'Quantity': 15, 'Expiry Date': '15-09-2021', 'Discount': 0}, '129': {'Product Name': 'Oreo Biscuits', 'Price': 30, 'Quantity': 40, 'Expiry Date': '17-10-2021', 'Discount': 0}, '130': {'Product Name': 'Murukku', 'Price': 155, 'Quantity': 35, 'Expiry Date': '20-12-2021', 'Discount': 5}, '131': {'Product Name': 'Butterscotch Ice Cream', 'Price': 30, 'Quantity': 10, 'Expiry Date': '09-10-2021', 'Discount': 0}}\n"
     ]
    }
   ],
   "source": [
    "choice=int(input(\"Please type 1 or 2 and select user type: \\n 1. Employee \\n 2. Customer \\n\"))\n",
    "if(choice == 1):\n",
    "    employee()\n",
    "elif(choice == 2):\n",
    "    customer()\n",
    "else:\n",
    "    print(\"Invalid input\")"
   ]
  },
  {
   "cell_type": "code",
   "execution_count": 39,
   "metadata": {},
   "outputs": [
    {
     "name": "stdout",
     "output_type": "stream",
     "text": [
      "Please type 1 or 2 and select user type: \n",
      " 1. Employee \n",
      " 2. Customer \n",
      "2\n",
      "Please type 1 or 2 and select function: \n",
      " 1. See inventory \n",
      " 2. Purchase Items and see bill\n",
      " 2\n",
      "Please enter Product ID 110\n",
      "Please enter Qunatity 2\n",
      "Product Name:  Ketchup\n",
      "Price:  150\n",
      "Quantity:  23\n",
      "Expiry Date:  20-09-2021\n",
      "Discount:  15\n",
      "***Discount given:  15 %***\n",
      "***TOTAL AMOUNT TO PAY: Rs. 255.0\n"
     ]
    }
   ],
   "source": [
    "choice=int(input(\"Please type 1 or 2 and select user type: \\n 1. Employee \\n 2. Customer \\n\"))\n",
    "if(choice == 1):\n",
    "    employee()\n",
    "elif(choice == 2):\n",
    "    customer()\n",
    "else:\n",
    "    print(\"Invalid input\")"
   ]
  },
  {
   "cell_type": "code",
   "execution_count": 40,
   "metadata": {},
   "outputs": [
    {
     "name": "stdout",
     "output_type": "stream",
     "text": [
      "Please type 1 or 2 and select user type: \n",
      " 1. Employee \n",
      " 2. Customer \n",
      "2\n",
      "Please type 1 or 2 and select function: \n",
      " 1. See inventory \n",
      " 2. Purchase Items and see bill\n",
      " 2\n",
      "Please enter Product ID 126\n",
      "Please enter Qunatity 1\n",
      "Product Name:  Jelllies\n",
      "Price:  5\n",
      "Quantity:  30\n",
      "Expiry Date:  31-08-2021\n",
      "Discount:  0\n",
      "****Product Expired, Sorry for the inconvenience!****\n"
     ]
    }
   ],
   "source": [
    "choice=int(input(\"Please type 1 or 2 and select user type: \\n 1. Employee \\n 2. Customer \\n\"))\n",
    "if(choice == 1):\n",
    "    employee()\n",
    "elif(choice == 2):\n",
    "    customer()\n",
    "else:\n",
    "    print(\"Invalid input\")"
   ]
  },
  {
   "cell_type": "code",
   "execution_count": 41,
   "metadata": {},
   "outputs": [
    {
     "name": "stdout",
     "output_type": "stream",
     "text": [
      "Please type 1 or 2 and select user type: \n",
      " 1. Employee \n",
      " 2. Customer \n",
      "2\n",
      "Please type 1 or 2 and select function: \n",
      " 1. See inventory \n",
      " 2. Purchase Items and see bill\n",
      " 2\n",
      "Please enter Product ID 110\n",
      "Please enter Qunatity 3\n",
      "Product Name:  Ketchup\n",
      "Price:  150\n",
      "Quantity:  21\n",
      "Expiry Date:  20-09-2021\n",
      "Discount:  15\n",
      "***Discount given:  15 %***\n",
      "***TOTAL AMOUNT TO PAY: Rs. 382.5\n"
     ]
    }
   ],
   "source": [
    "choice=int(input(\"Please type 1 or 2 and select user type: \\n 1. Employee \\n 2. Customer \\n\"))\n",
    "if(choice == 1):\n",
    "    employee()\n",
    "elif(choice == 2):\n",
    "    customer()\n",
    "else:\n",
    "    print(\"Invalid input\")"
   ]
  },
  {
   "cell_type": "code",
   "execution_count": 43,
   "metadata": {},
   "outputs": [
    {
     "name": "stdout",
     "output_type": "stream",
     "text": [
      "Please type 1 or 2 and select user type: \n",
      " 1. Employee \n",
      " 2. Customer \n",
      "2\n",
      "Please type 1 or 2 and select function: \n",
      " 1. See inventory \n",
      " 2. Purchase Items and see bill\n",
      " 2\n",
      "Please enter Product ID 110\n",
      "Please enter Qunatity 19\n",
      "Product Name:  Ketchup\n",
      "Price:  150\n",
      "Quantity:  18\n",
      "Expiry Date:  20-09-2021\n",
      "Discount:  15\n",
      "****Not enough quantity, Sorry for the inconvenience!****\n"
     ]
    }
   ],
   "source": [
    "choice=int(input(\"Please type 1 or 2 and select user type: \\n 1. Employee \\n 2. Customer \\n\"))\n",
    "if(choice == 1):\n",
    "    employee()\n",
    "elif(choice == 2):\n",
    "    customer()\n",
    "else:\n",
    "    print(\"Invalid input\")"
   ]
  },
  {
   "cell_type": "markdown",
   "metadata": {},
   "source": [
    "### 6. Conclusion"
   ]
  },
  {
   "cell_type": "markdown",
   "metadata": {},
   "source": [
    "We successfully created Inventory Management System."
   ]
  },
  {
   "cell_type": "markdown",
   "metadata": {},
   "source": [
    "##### By Shreya Garg\n"
   ]
  }
 ],
 "metadata": {
  "kernelspec": {
   "display_name": "Python 3",
   "language": "python",
   "name": "python3"
  },
  "language_info": {
   "codemirror_mode": {
    "name": "ipython",
    "version": 3
   },
   "file_extension": ".py",
   "mimetype": "text/x-python",
   "name": "python",
   "nbconvert_exporter": "python",
   "pygments_lexer": "ipython3",
   "version": "3.7.4"
  }
 },
 "nbformat": 4,
 "nbformat_minor": 2
}
