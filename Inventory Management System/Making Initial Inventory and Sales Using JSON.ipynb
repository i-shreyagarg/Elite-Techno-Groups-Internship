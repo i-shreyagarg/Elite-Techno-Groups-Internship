{
 "cells": [
  {
   "cell_type": "markdown",
   "metadata": {},
   "source": [
    "# Making Initial Inventory and Sales Using JSON"
   ]
  },
  {
   "cell_type": "markdown",
   "metadata": {},
   "source": [
    "We are preparing an initial inventory and sales record for Inventory Management System using Dictionaries, JSON and File Handling."
   ]
  },
  {
   "cell_type": "markdown",
   "metadata": {},
   "source": [
    "## A. Initital Inventory"
   ]
  },
  {
   "cell_type": "markdown",
   "metadata": {},
   "source": [
    "### 1. Making Records"
   ]
  },
  {
   "cell_type": "code",
   "execution_count": 1,
   "metadata": {},
   "outputs": [],
   "source": [
    "record= {\n",
    "    \n",
    "    101 : { 'Product Name' : \"Kellog's Cereals\" , 'Price' : 150 , 'Quantity' : 7 , 'Expiry Date' : '30-09-2021', 'Discount' : 0 },\n",
    "    102 : { 'Product Name' : 'Bread' , 'Price' : 40 , 'Quantity' : 20 , 'Expiry Date' : '10-09-2021' , 'Discount' : 0},\n",
    "    103 : { 'Product Name' : 'Peanut Butter' , 'Price' : 200, 'Quantity' : 10, 'Expiry Date' : '27-09-2021', 'Discount' : 0 },\n",
    "    104 : { 'Product Name' : 'Mayonnaise' , 'Price' : 130, 'Quantity' : 5, 'Expiry Date' : '02-09-2021', 'Discount' : 0},\n",
    "    105 : { 'Product Name' : 'Macaroni' , 'Price' : 300, 'Quantity' : 15, 'Expiry Date' : '25-11-2022', 'Discount' : 0},\n",
    "    106 : { 'Product Name' : 'Cheese' , 'Price' : 400, 'Quantity' : 20, 'Expiry Date' : '15-09-2021', 'Discount' : 0},\n",
    "    107 : { 'Product Name' : 'Vanilla Muffin' , 'Price' : 30, 'Quantity' : 30, 'Expiry Date' : '13-09-2021', 'Discount' : 0},\n",
    "    108 : { 'Product Name' : 'Chocochip Muffin' , 'Price' : 35, 'Quantity' : 40, 'Expiry Date' : '13-09-2021', 'Discount' : 0 },\n",
    "    109 : { 'Product Name' : 'Marshmallow' , 'Price' : 100, 'Quantity' : 30, 'Expiry Date' : '01-09-2021', 'Discount' : 0 },\n",
    "    110 : { 'Product Name' : 'Ketchup' , 'Price' : 150, 'Quantity' : 25, 'Expiry Date' : '20-09-2021', 'Discount' : 15},\n",
    "    111 : { 'Product Name' : 'Schezwan Sauce' , 'Price' : 175, 'Quantity' : 15, 'Expiry Date' : '25-10-2021', 'Discount' : 10},\n",
    "    112 : { 'Product Name' : 'Pineapple Jam' , 'Price' : 140, 'Quantity' : 20, 'Expiry Date' : '23-09-2021', 'Discount' : 0},\n",
    "    113 : { 'Product Name' : 'Mixed Fruit Jam' , 'Price' : 125, 'Quantity' : 30, 'Expiry Date' : '23-09-2021', 'Discount' : 5},\n",
    "    114 : { 'Product Name' : 'Honey' , 'Price' : 225 , 'Quantity' : 50, 'Expiry Date' : '14-12-2021', 'Discount' : 5},\n",
    "    115 : { 'Product Name' : 'Vanilla Ice Cream ' , 'Price' : 20, 'Quantity' : 40, 'Expiry Date' : '08-09-2021', 'Discount' : 0},\n",
    "    116 : { 'Product Name' : 'Chocolate Ice Cream' , 'Price' : 20, 'Quantity' : 60, 'Expiry Date' : '08-09-2021', 'Discount' : 0},\n",
    "    117 : { 'Product Name' : 'Energy Bar' , 'Price' : 30, 'Quantity' : 30, 'Expiry Date' : '10-10-2021', 'Discount' : 0},\n",
    "    118 : { 'Product Name' : 'Choco Chip Cookies' , 'Price' : 35, 'Quantity' : 60, 'Expiry Date' : '16-11-2021', 'Discount' : 0},\n",
    "    119 : { 'Product Name' : 'Classic Salted Lays' , 'Price' : 20, 'Quantity' : 75, 'Expiry Date' : '18-11-2021', 'Discount' : 0},\n",
    "    120 : { 'Product Name' : 'Maggie' , 'Price' : 100, 'Quantity' : 100, 'Expiry Date' : '19-12-2021', 'Discount' : 10},\n",
    "    121 : { 'Product Name' : 'Hide and Seek Biscuit' , 'Price' : 30, 'Quantity' : 50, 'Expiry Date' : '26-10-2021', 'Discount' : 0},\n",
    "    122 : { 'Product Name' : 'McCain Smileys' , 'Price' : 200, 'Quantity' :20 , 'Expiry Date' : '09-01-2022', 'Discount' : 0},\n",
    "    123 : { 'Product Name' : 'Aaloo Bhujia' , 'Price' : 75, 'Quantity' : 100, 'Expiry Date' : '03-11-2021', 'Discount' : 0},\n",
    "    124 : { 'Product Name' : 'Lollipop' , 'Price' : 10, 'Quantity' : 30, 'Expiry Date' : '11-09-2021', 'Discount' : 0},\n",
    "    125 : { 'Product Name' : 'Amul Milk' , 'Price' : 70, 'Quantity' : 110, 'Expiry Date' : '10-09-2021', 'Discount' : 0 },\n",
    "    126 : { 'Product Name' : 'Jelllies' , 'Price' : 5, 'Quantity' : 30, 'Expiry Date' : '31-08-2021', 'Discount' : 0},\n",
    "    127 : { 'Product Name' : 'Melody Toffee' , 'Price' : 2, 'Quantity' : 50, 'Expiry Date' : '29-09-2021', 'Discount' : 0},\n",
    "    128 : { 'Product Name' : 'Soya Sauce' , 'Price' : 160, 'Quantity' : 15, 'Expiry Date' : '15-09-2021', 'Discount' : 0},\n",
    "    129 : { 'Product Name' : 'Oreo Biscuits' , 'Price' : 30, 'Quantity' : 40, 'Expiry Date' : '17-10-2021', 'Discount' : 0},\n",
    "    130 : { 'Product Name' : 'Murukku' , 'Price' : 155, 'Quantity' : 35, 'Expiry Date' : '20-12-2021', 'Discount' : 5} \n",
    "}"
   ]
  },
  {
   "cell_type": "code",
   "execution_count": 2,
   "metadata": {},
   "outputs": [],
   "source": [
    "#Expired Items\n",
    "###Mayonnaise, Marshmallow, Jelllies\n",
    "\n",
    "#Discounted Items\n",
    "### Ketchup, Mixed Fruit Jam, Honey, Maggie, Murukku"
   ]
  },
  {
   "cell_type": "markdown",
   "metadata": {},
   "source": [
    "### 2. Converting in json format"
   ]
  },
  {
   "cell_type": "code",
   "execution_count": 3,
   "metadata": {},
   "outputs": [],
   "source": [
    "#importing json\n",
    "import json"
   ]
  },
  {
   "cell_type": "code",
   "execution_count": 4,
   "metadata": {},
   "outputs": [],
   "source": [
    "#storing in json\n",
    "records=json.dumps(record)"
   ]
  },
  {
   "cell_type": "markdown",
   "metadata": {},
   "source": [
    "### 3. Storing using File Handling"
   ]
  },
  {
   "cell_type": "code",
   "execution_count": 5,
   "metadata": {},
   "outputs": [],
   "source": [
    "#storing on local machine\n",
    "fd=open(\"records.json\",'w')\n",
    "fd.write(records)\n",
    "fd.close()"
   ]
  },
  {
   "cell_type": "markdown",
   "metadata": {},
   "source": [
    "### 4. Checking Json File"
   ]
  },
  {
   "cell_type": "code",
   "execution_count": 6,
   "metadata": {},
   "outputs": [
    {
     "data": {
      "text/plain": [
       "'{\"101\": {\"Product Name\": \"Kellog\\'s Cereals\", \"Price\": 150, \"Quantity\": 7, \"Expiry Date\": \"30-09-2021\", \"Discount\": 0}, \"102\": {\"Product Name\": \"Bread\", \"Price\": 40, \"Quantity\": 20, \"Expiry Date\": \"10-09-2021\", \"Discount\": 0}, \"103\": {\"Product Name\": \"Peanut Butter\", \"Price\": 200, \"Quantity\": 10, \"Expiry Date\": \"27-09-2021\", \"Discount\": 0}, \"104\": {\"Product Name\": \"Mayonnaise\", \"Price\": 130, \"Quantity\": 5, \"Expiry Date\": \"02-09-2021\", \"Discount\": 0}, \"105\": {\"Product Name\": \"Macaroni\", \"Price\": 300, \"Quantity\": 15, \"Expiry Date\": \"25-11-2022\", \"Discount\": 0}, \"106\": {\"Product Name\": \"Cheese\", \"Price\": 400, \"Quantity\": 20, \"Expiry Date\": \"15-09-2021\", \"Discount\": 0}, \"107\": {\"Product Name\": \"Vanilla Muffin\", \"Price\": 30, \"Quantity\": 30, \"Expiry Date\": \"13-09-2021\", \"Discount\": 0}, \"108\": {\"Product Name\": \"Chocochip Muffin\", \"Price\": 35, \"Quantity\": 40, \"Expiry Date\": \"13-09-2021\", \"Discount\": 0}, \"109\": {\"Product Name\": \"Marshmallow\", \"Price\": 100, \"Quantity\": 30, \"Expiry Date\": \"01-09-2021\", \"Discount\": 0}, \"110\": {\"Product Name\": \"Ketchup\", \"Price\": 150, \"Quantity\": 25, \"Expiry Date\": \"20-09-2021\", \"Discount\": 15}, \"111\": {\"Product Name\": \"Schezwan Sauce\", \"Price\": 175, \"Quantity\": 15, \"Expiry Date\": \"25-10-2021\", \"Discount\": 10}, \"112\": {\"Product Name\": \"Pineapple Jam\", \"Price\": 140, \"Quantity\": 20, \"Expiry Date\": \"23-09-2021\", \"Discount\": 0}, \"113\": {\"Product Name\": \"Mixed Fruit Jam\", \"Price\": 125, \"Quantity\": 30, \"Expiry Date\": \"23-09-2021\", \"Discount\": 5}, \"114\": {\"Product Name\": \"Honey\", \"Price\": 225, \"Quantity\": 50, \"Expiry Date\": \"14-12-2021\", \"Discount\": 5}, \"115\": {\"Product Name\": \"Vanilla Ice Cream \", \"Price\": 20, \"Quantity\": 40, \"Expiry Date\": \"08-09-2021\", \"Discount\": 0}, \"116\": {\"Product Name\": \"Chocolate Ice Cream\", \"Price\": 20, \"Quantity\": 60, \"Expiry Date\": \"08-09-2021\", \"Discount\": 0}, \"117\": {\"Product Name\": \"Energy Bar\", \"Price\": 30, \"Quantity\": 30, \"Expiry Date\": \"10-10-2021\", \"Discount\": 0}, \"118\": {\"Product Name\": \"Choco Chip Cookies\", \"Price\": 35, \"Quantity\": 60, \"Expiry Date\": \"16-11-2021\", \"Discount\": 0}, \"119\": {\"Product Name\": \"Classic Salted Lays\", \"Price\": 20, \"Quantity\": 75, \"Expiry Date\": \"18-11-2021\", \"Discount\": 0}, \"120\": {\"Product Name\": \"Maggie\", \"Price\": 100, \"Quantity\": 100, \"Expiry Date\": \"19-12-2021\", \"Discount\": 10}, \"121\": {\"Product Name\": \"Hide and Seek Biscuit\", \"Price\": 30, \"Quantity\": 50, \"Expiry Date\": \"26-10-2021\", \"Discount\": 0}, \"122\": {\"Product Name\": \"McCain Smileys\", \"Price\": 200, \"Quantity\": 20, \"Expiry Date\": \"09-01-2022\", \"Discount\": 0}, \"123\": {\"Product Name\": \"Aaloo Bhujia\", \"Price\": 75, \"Quantity\": 100, \"Expiry Date\": \"03-11-2021\", \"Discount\": 0}, \"124\": {\"Product Name\": \"Lollipop\", \"Price\": 10, \"Quantity\": 30, \"Expiry Date\": \"11-09-2021\", \"Discount\": 0}, \"125\": {\"Product Name\": \"Amul Milk\", \"Price\": 70, \"Quantity\": 110, \"Expiry Date\": \"10-09-2021\", \"Discount\": 0}, \"126\": {\"Product Name\": \"Jelllies\", \"Price\": 5, \"Quantity\": 30, \"Expiry Date\": \"31-08-2021\", \"Discount\": 0}, \"127\": {\"Product Name\": \"Melody Toffee\", \"Price\": 2, \"Quantity\": 50, \"Expiry Date\": \"29-09-2021\", \"Discount\": 0}, \"128\": {\"Product Name\": \"Soya Sauce\", \"Price\": 160, \"Quantity\": 15, \"Expiry Date\": \"15-09-2021\", \"Discount\": 0}, \"129\": {\"Product Name\": \"Oreo Biscuits\", \"Price\": 30, \"Quantity\": 40, \"Expiry Date\": \"17-10-2021\", \"Discount\": 0}, \"130\": {\"Product Name\": \"Murukku\", \"Price\": 155, \"Quantity\": 35, \"Expiry Date\": \"20-12-2021\", \"Discount\": 5}}'"
      ]
     },
     "execution_count": 6,
     "metadata": {},
     "output_type": "execute_result"
    }
   ],
   "source": [
    "#reading file\n",
    "fd=open(\"records.json\",'r')\n",
    "fd.read()"
   ]
  },
  {
   "cell_type": "code",
   "execution_count": 7,
   "metadata": {},
   "outputs": [],
   "source": [
    "#closing file\n",
    "fd.close()"
   ]
  },
  {
   "cell_type": "markdown",
   "metadata": {},
   "source": [
    "## B. Initial Sales "
   ]
  },
  {
   "cell_type": "markdown",
   "metadata": {},
   "source": [
    "### 1. Making Records"
   ]
  },
  {
   "cell_type": "code",
   "execution_count": 8,
   "metadata": {},
   "outputs": [],
   "source": [
    "sales={\n",
    "    1: {'Product Id' : 101 , 'Quantity' : 3 , 'Amount': 450  },\n",
    "    2: {'Product Id' :  108, 'Quantity' :  2, 'Amount': 70 },\n",
    "    3: {'Product Id' : 127 , 'Quantity' : 10 , 'Amount': 20 }\n",
    "}"
   ]
  },
  {
   "cell_type": "markdown",
   "metadata": {},
   "source": [
    "### 2. Converting in json format"
   ]
  },
  {
   "cell_type": "code",
   "execution_count": 9,
   "metadata": {},
   "outputs": [],
   "source": [
    "js=json.dumps(sales)"
   ]
  },
  {
   "cell_type": "markdown",
   "metadata": {},
   "source": [
    "### 3. Storing using File Handling"
   ]
  },
  {
   "cell_type": "code",
   "execution_count": 10,
   "metadata": {},
   "outputs": [],
   "source": [
    "fd=open(\"sales.json\",'w')\n",
    "fd.write(js)\n",
    "fd.close()"
   ]
  },
  {
   "cell_type": "markdown",
   "metadata": {},
   "source": [
    "### 4. Checking Json File"
   ]
  },
  {
   "cell_type": "code",
   "execution_count": 11,
   "metadata": {},
   "outputs": [
    {
     "data": {
      "text/plain": [
       "'{\"1\": {\"Product Id\": 101, \"Quantity\": 3, \"Amount\": 450}, \"2\": {\"Product Id\": 108, \"Quantity\": 2, \"Amount\": 70}, \"3\": {\"Product Id\": 127, \"Quantity\": 10, \"Amount\": 20}}'"
      ]
     },
     "execution_count": 11,
     "metadata": {},
     "output_type": "execute_result"
    }
   ],
   "source": [
    "#reading file\n",
    "fd=open(\"sales.json\",'r')\n",
    "fd.read()"
   ]
  },
  {
   "cell_type": "code",
   "execution_count": 12,
   "metadata": {},
   "outputs": [],
   "source": [
    "#closing file\n",
    "fd.close()"
   ]
  },
  {
   "cell_type": "markdown",
   "metadata": {},
   "source": [
    "## C. Conclusion"
   ]
  },
  {
   "cell_type": "markdown",
   "metadata": {},
   "source": [
    "We successfully created records for Inventory Management System."
   ]
  },
  {
   "cell_type": "markdown",
   "metadata": {},
   "source": [
    "##### By Shreya Garg\n"
   ]
  }
 ],
 "metadata": {
  "kernelspec": {
   "display_name": "Python 3",
   "language": "python",
   "name": "python3"
  },
  "language_info": {
   "codemirror_mode": {
    "name": "ipython",
    "version": 3
   },
   "file_extension": ".py",
   "mimetype": "text/x-python",
   "name": "python",
   "nbconvert_exporter": "python",
   "pygments_lexer": "ipython3",
   "version": "3.7.4"
  }
 },
 "nbformat": 4,
 "nbformat_minor": 2
}
